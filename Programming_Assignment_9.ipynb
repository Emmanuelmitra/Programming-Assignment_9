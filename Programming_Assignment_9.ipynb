{
  "nbformat": 4,
  "nbformat_minor": 0,
  "metadata": {
    "colab": {
      "provenance": []
    },
    "kernelspec": {
      "name": "python3",
      "display_name": "Python 3"
    },
    "language_info": {
      "name": "python"
    }
  },
  "cells": [
    {
      "cell_type": "code",
      "execution_count": 1,
      "metadata": {
        "id": "b9wtOoHW_hit"
      },
      "outputs": [],
      "source": [
        "\n",
        "# Programming Assignment_9"
      ]
    },
    {
      "cell_type": "markdown",
      "source": [
        "1. Write a Python program to check if the given number is a Disarium Number?\n",
        "2. Write a Python program to print all disarium numbers between 1 to 100?\n",
        "3. Write a Python program to check if the given number is Happy Number?\n",
        "4. Write a Python program to print all happy numbers between 1 and 100?\n",
        "5. Write a Python program to determine whether the given number is a Harshad Number?\n",
        "6. Write a Python program to print all pronic numbers between 1 and 100?"
      ],
      "metadata": {
        "id": "ITo9E5_d_2l8"
      }
    },
    {
      "cell_type": "code",
      "source": [
        "# 1.Write a Python program to check if the given number is a Disarium Number?\n",
        "Number = int(input(\"Enter the Number to Check Disarium Number = \"))\n",
        "length = len(str(Number))\n",
        "\n",
        "Temp = Number\n",
        "Sum = 0\n",
        "rem = 0\n",
        "\n",
        "while Temp > 0:\n",
        "    rem = Temp % 10\n",
        "    Sum = Sum + int(rem**length)\n",
        "    Temp = Temp // 10\n",
        "    length = length - 1\n",
        "\n",
        "print(\"The Sum of the Digits = %d\" %Sum)\n",
        "\n",
        "if Sum == Number:\n",
        "    print(\"\\n%d is a Disarium Number.\" %Number)\n",
        "else:\n",
        "    print(\"%d is Not a Disarium Number.\" %Number)"
      ],
      "metadata": {
        "colab": {
          "base_uri": "https://localhost:8080/"
        },
        "id": "7umkE-Lo_3I3",
        "outputId": "72bc48d9-15e7-4c78-e980-6b7cc99f3247"
      },
      "execution_count": 3,
      "outputs": [
        {
          "output_type": "stream",
          "name": "stdout",
          "text": [
            "Enter the Number to Check Disarium Number = 5\n",
            "The Sum of the Digits = 5\n",
            "\n",
            "5 is a Disarium Number.\n"
          ]
        }
      ]
    },
    {
      "cell_type": "code",
      "source": [
        "# 2.Write a Python program to print all disarium numbers between 1 to 100?\n",
        "def length_calculation(my_val):\n",
        "   len_val = 0\n",
        "   while(my_val != 0):\n",
        "      len_val = len_val + 1\n",
        "      my_val = my_val//10\n",
        "   return len_val\n",
        "def digit_sum(my_num):\n",
        "   remaining = sum_val = 0\n",
        "   len_fun = length_calculation(my_num)\n",
        "   while(my_num > 0):\n",
        "      remaining = my_num%10\n",
        "      sum_val = sum_val + (remaining**len_fun)\n",
        "      my_num = my_num//10\n",
        "      len_fun = len_fun - 1\n",
        "   return sum_val\n",
        "ini_result = 0\n",
        "print(\"The disarium numbers between 1 and 100 are : \")\n",
        "for i in range(1, 101):\n",
        "   ini_result = digit_sum(i)\n",
        "   if(ini_result == i):\n",
        "      print(i)"
      ],
      "metadata": {
        "colab": {
          "base_uri": "https://localhost:8080/"
        },
        "id": "H9WQZ58gAF-9",
        "outputId": "33b36495-2dd8-4e39-9d67-4795a45bdaef"
      },
      "execution_count": 5,
      "outputs": [
        {
          "output_type": "stream",
          "name": "stdout",
          "text": [
            "The disarium numbers between 1 and 100 are : \n",
            "1\n",
            "2\n",
            "3\n",
            "4\n",
            "5\n",
            "6\n",
            "7\n",
            "8\n",
            "9\n",
            "89\n"
          ]
        }
      ]
    },
    {
      "cell_type": "code",
      "source": [
        "# 3.Write a Python program to check if the given number is Happy Number?\n",
        "def is_Happy_num(n):\n",
        "  past = set()\n",
        "  while n != 1:\n",
        "        n = sum(int(i)**2 for i in str(n))\n",
        "        if n in past:\n",
        "            return False\n",
        "        past.add(n)\n",
        "  return True\n",
        "print(is_Happy_num(7))\n",
        "print(is_Happy_num(932))\n",
        "print(is_Happy_num(6))"
      ],
      "metadata": {
        "colab": {
          "base_uri": "https://localhost:8080/"
        },
        "id": "zbKftt1NAVRz",
        "outputId": "ae3e2c32-7df1-4828-cfdb-ece96a149dbf"
      },
      "execution_count": 7,
      "outputs": [
        {
          "output_type": "stream",
          "name": "stdout",
          "text": [
            "True\n",
            "True\n",
            "False\n"
          ]
        }
      ]
    },
    {
      "cell_type": "code",
      "source": [
        "#4. Write a Python program to print all happy numbers between 1 and 100?\n",
        "def happy_numbers(n):\n",
        "    past = set()\t\t\t\n",
        "    while n != 1:\n",
        "        n = sum(int(i)**2 for i in str(n))\n",
        "        if n in past:\n",
        "            return False\n",
        "        past.add(n)\n",
        "    return True\n",
        "print([x for x in range(500) if happy_numbers(x)][:10])"
      ],
      "metadata": {
        "colab": {
          "base_uri": "https://localhost:8080/"
        },
        "id": "k92LstsfAgYt",
        "outputId": "6a17abcf-4c03-43f1-94bb-725854ac4475"
      },
      "execution_count": 9,
      "outputs": [
        {
          "output_type": "stream",
          "name": "stdout",
          "text": [
            "[1, 7, 10, 13, 19, 23, 28, 31, 32, 44]\n"
          ]
        }
      ]
    },
    {
      "cell_type": "code",
      "source": [
        "# 5.Write a Python program to determine whether the given number is a Harshad Number?\n",
        "Number = int(input(\"Enter the Number to Check Harshad Number = \"))\n",
        "Sum = 0\n",
        "rem = 0\n",
        "\n",
        "Temp = Number\n",
        "while Temp > 0:\n",
        "    rem = Temp % 10\n",
        "    Sum = Sum + rem\n",
        "    Temp = Temp // 10\n",
        "\n",
        "print(\"The Sum of the Digits = %d\" %Sum)\n",
        "\n",
        "if Number % Sum == 0:\n",
        "    print(\"\\n%d is a Harshad Number.\" %Number)\n",
        "else:\n",
        "    print(\"%d is Not a Harshad Number.\" %Number)"
      ],
      "metadata": {
        "colab": {
          "base_uri": "https://localhost:8080/"
        },
        "id": "ianjzWAzAq5R",
        "outputId": "d59ce135-5862-4c4b-9786-6d190cad6884"
      },
      "execution_count": 11,
      "outputs": [
        {
          "output_type": "stream",
          "name": "stdout",
          "text": [
            "Enter the Number to Check Harshad Number = 8\n",
            "The Sum of the Digits = 8\n",
            "\n",
            "8 is a Harshad Number.\n"
          ]
        }
      ]
    },
    {
      "cell_type": "code",
      "source": [
        "#6. Write a Python program to print all pronic numbers between 1 and 100?\n",
        "#isPronicNumber() will determine whether a given number is a pronic number or not    \n",
        "def isPronicNumber(num):    \n",
        "    flag = False;    \n",
        "        \n",
        "    for j in range(1, num+1):    \n",
        "        #Checks for pronic number by multiplying consecutive numbers    \n",
        "        if((j*(j+1)) == num):    \n",
        "            flag = True;    \n",
        "            break;    \n",
        "    return flag;    \n",
        "     \n",
        "#Displays pronic numbers between 1 and 100    \n",
        "print(\"Pronic numbers between 1 and 100: \");    \n",
        "for i in range(1, 101):    \n",
        "    if(isPronicNumber(i)):    \n",
        "        print(i),    \n",
        "        print(\" \"),    "
      ],
      "metadata": {
        "colab": {
          "base_uri": "https://localhost:8080/"
        },
        "id": "HsFRB2ZJA3wx",
        "outputId": "8f3a21b8-0f80-4a49-dcb3-6b53f02bae3b"
      },
      "execution_count": 13,
      "outputs": [
        {
          "output_type": "stream",
          "name": "stdout",
          "text": [
            "Pronic numbers between 1 and 100: \n",
            "2\n",
            " \n",
            "6\n",
            " \n",
            "12\n",
            " \n",
            "20\n",
            " \n",
            "30\n",
            " \n",
            "42\n",
            " \n",
            "56\n",
            " \n",
            "72\n",
            " \n",
            "90\n",
            " \n"
          ]
        }
      ]
    },
    {
      "cell_type": "code",
      "source": [],
      "metadata": {
        "id": "kvBdP9s3BHnr"
      },
      "execution_count": null,
      "outputs": []
    }
  ]
}